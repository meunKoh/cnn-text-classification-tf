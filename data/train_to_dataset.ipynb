{
 "cells": [
  {
   "cell_type": "code",
   "execution_count": 3,
   "metadata": {},
   "outputs": [],
   "source": [
    "import pandas as pd"
   ]
  },
  {
   "cell_type": "code",
   "execution_count": 6,
   "metadata": {},
   "outputs": [],
   "source": [
    "train = pd.read_csv('bh.train', encoding='utf-8', sep='\\t')"
   ]
  },
  {
   "cell_type": "code",
   "execution_count": 7,
   "metadata": {},
   "outputs": [
    {
     "data": {
      "text/html": [
       "<div>\n",
       "<style scoped>\n",
       "    .dataframe tbody tr th:only-of-type {\n",
       "        vertical-align: middle;\n",
       "    }\n",
       "\n",
       "    .dataframe tbody tr th {\n",
       "        vertical-align: top;\n",
       "    }\n",
       "\n",
       "    .dataframe thead th {\n",
       "        text-align: right;\n",
       "    }\n",
       "</style>\n",
       "<table border=\"1\" class=\"dataframe\">\n",
       "  <thead>\n",
       "    <tr style=\"text-align: right;\">\n",
       "      <th></th>\n",
       "      <th>테 블릿 그 실체 미래 셋 밝힘 니 다 또 하나 테 블릿 사건 미래 셋 생명 보험 지네트 웍스 사 속 임 판매 상품 바꿔치기 영업 판매 실체 허상 전국 여개 지점 흘러 들어간 상품 전수 조사 보 헙설계사 우롱 민낯 밝혀 주 십시요</th>\n",
       "      <th>0</th>\n",
       "    </tr>\n",
       "  </thead>\n",
       "  <tbody>\n",
       "    <tr>\n",
       "      <th>0</th>\n",
       "      <td>교원 성과급 폐지 강력히 청원 합니다 학생 에게 비교 잣대 대 지 말 라고 하 고 ...</td>\n",
       "      <td>2</td>\n",
       "    </tr>\n",
       "    <tr>\n",
       "      <th>1</th>\n",
       "      <td>비 많이 오 니 학생 건강 염려 스럽 습니다 비 많이 옵니다 하 지만 그 세 차개 ...</td>\n",
       "      <td>2</td>\n",
       "    </tr>\n",
       "    <tr>\n",
       "      <th>2</th>\n",
       "      <td>이슬비 대위 파 면 하 라 청문회 당시 조여 옥대 위 일거 수일 트 족 감시 하 고...</td>\n",
       "      <td>0</td>\n",
       "    </tr>\n",
       "    <tr>\n",
       "      <th>3</th>\n",
       "      <td>평창 동계 올림픽 평창 동계 올림픽 우리 나라 대한민국 개최 나라 입니다 그렇지만 ...</td>\n",
       "      <td>1</td>\n",
       "    </tr>\n",
       "    <tr>\n",
       "      <th>4</th>\n",
       "      <td>성폭행 범 안희정 구속 하 라 이유 생략 대한민국 대통령 문재인 님 법무부 장관 지...</td>\n",
       "      <td>0</td>\n",
       "    </tr>\n",
       "    <tr>\n",
       "      <th>...</th>\n",
       "      <td>...</td>\n",
       "      <td>...</td>\n",
       "    </tr>\n",
       "    <tr>\n",
       "      <th>294</th>\n",
       "      <td>이제 바뀌 어야 합니다 올림픽 아시안 게임 등등 국제 경기 에서 메달 땄 다고 군 ...</td>\n",
       "      <td>1</td>\n",
       "    </tr>\n",
       "    <tr>\n",
       "      <th>295</th>\n",
       "      <td>교사 선발 시 교사 임용 차 시험 합격 후 차면 접시 면접 횟수 여러 번 해서 걸러...</td>\n",
       "      <td>2</td>\n",
       "    </tr>\n",
       "    <tr>\n",
       "      <th>296</th>\n",
       "      <td>남북 아이스 하키 단일팀 구성 관한 건 단일팀 구성 건 한국 선수 피해 보 것 상쇄...</td>\n",
       "      <td>1</td>\n",
       "    </tr>\n",
       "    <tr>\n",
       "      <th>297</th>\n",
       "      <td>선거 연령 나이 제한 선거 연령 제한 미 성년 자세 미만 만 해당 하 것 불 합리 ...</td>\n",
       "      <td>0</td>\n",
       "    </tr>\n",
       "    <tr>\n",
       "      <th>298</th>\n",
       "      <td>빙상 연맹 파벌 싸움 관계자 명단 공개 해야 합니다 빙산 연맹 이번 사건 계기 로 ...</td>\n",
       "      <td>1</td>\n",
       "    </tr>\n",
       "  </tbody>\n",
       "</table>\n",
       "<p>299 rows × 2 columns</p>\n",
       "</div>"
      ],
      "text/plain": [
       "    테 블릿 그 실체 미래 셋 밝힘 니 다 또 하나 테 블릿 사건 미래 셋 생명 보험 지네트 웍스 사 속 임 판매 상품 바꿔치기 영업 판매 실체 허상 전국 여개 지점 흘러 들어간 상품 전수 조사 보 헙설계사 우롱 민낯 밝혀 주 십시요  \\\n",
       "0    교원 성과급 폐지 강력히 청원 합니다 학생 에게 비교 잣대 대 지 말 라고 하 고 ...                                                                                 \n",
       "1    비 많이 오 니 학생 건강 염려 스럽 습니다 비 많이 옵니다 하 지만 그 세 차개 ...                                                                                 \n",
       "2    이슬비 대위 파 면 하 라 청문회 당시 조여 옥대 위 일거 수일 트 족 감시 하 고...                                                                                 \n",
       "3    평창 동계 올림픽 평창 동계 올림픽 우리 나라 대한민국 개최 나라 입니다 그렇지만 ...                                                                                 \n",
       "4    성폭행 범 안희정 구속 하 라 이유 생략 대한민국 대통령 문재인 님 법무부 장관 지...                                                                                 \n",
       "..                                                 ...                                                                                 \n",
       "294  이제 바뀌 어야 합니다 올림픽 아시안 게임 등등 국제 경기 에서 메달 땄 다고 군 ...                                                                                 \n",
       "295  교사 선발 시 교사 임용 차 시험 합격 후 차면 접시 면접 횟수 여러 번 해서 걸러...                                                                                 \n",
       "296  남북 아이스 하키 단일팀 구성 관한 건 단일팀 구성 건 한국 선수 피해 보 것 상쇄...                                                                                 \n",
       "297  선거 연령 나이 제한 선거 연령 제한 미 성년 자세 미만 만 해당 하 것 불 합리 ...                                                                                 \n",
       "298  빙상 연맹 파벌 싸움 관계자 명단 공개 해야 합니다 빙산 연맹 이번 사건 계기 로 ...                                                                                 \n",
       "\n",
       "     0  \n",
       "0    2  \n",
       "1    2  \n",
       "2    0  \n",
       "3    1  \n",
       "4    0  \n",
       "..  ..  \n",
       "294  1  \n",
       "295  2  \n",
       "296  1  \n",
       "297  0  \n",
       "298  1  \n",
       "\n",
       "[299 rows x 2 columns]"
      ]
     },
     "execution_count": 7,
     "metadata": {},
     "output_type": "execute_result"
    }
   ],
   "source": [
    "train"
   ]
  },
  {
   "cell_type": "code",
   "execution_count": null,
   "metadata": {},
   "outputs": [],
   "source": []
  }
 ],
 "metadata": {
  "kernelspec": {
   "display_name": "Python 3",
   "language": "python",
   "name": "python3"
  },
  "language_info": {
   "codemirror_mode": {
    "name": "ipython",
    "version": 3
   },
   "file_extension": ".py",
   "mimetype": "text/x-python",
   "name": "python",
   "nbconvert_exporter": "python",
   "pygments_lexer": "ipython3",
   "version": "3.6.10"
  }
 },
 "nbformat": 4,
 "nbformat_minor": 4
}
