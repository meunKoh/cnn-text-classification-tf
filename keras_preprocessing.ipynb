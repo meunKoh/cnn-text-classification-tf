{
 "cells": [
  {
   "cell_type": "code",
   "execution_count": 1,
   "metadata": {},
   "outputs": [
    {
     "data": {
      "text/plain": [
       "'1.15.0'"
      ]
     },
     "execution_count": 1,
     "metadata": {},
     "output_type": "execute_result"
    }
   ],
   "source": [
    "import tensorflow as tf\n",
    "tf.__version__"
   ]
  },
  {
   "cell_type": "code",
   "execution_count": 2,
   "metadata": {},
   "outputs": [
    {
     "data": {
      "text/plain": [
       "'2.2.4-tf'"
      ]
     },
     "execution_count": 2,
     "metadata": {},
     "output_type": "execute_result"
    }
   ],
   "source": [
    "from tensorflow import keras\n",
    "keras.__version__"
   ]
  },
  {
   "cell_type": "code",
   "execution_count": 3,
   "metadata": {},
   "outputs": [
    {
     "name": "stderr",
     "output_type": "stream",
     "text": [
      "Using TensorFlow backend.\n"
     ]
    }
   ],
   "source": [
    "from keras.preprocessing.text import Tokenizer\n",
    "from keras.preprocessing.sequence import pad_sequences"
   ]
  },
  {
   "cell_type": "code",
   "execution_count": 4,
   "metadata": {},
   "outputs": [],
   "source": [
    "from multi_class_data_loader import MultiClassDataLoader"
   ]
  },
  {
   "cell_type": "code",
   "execution_count": null,
   "metadata": {},
   "outputs": [],
   "source": [
    "# 2020-07-02\n",
    "!python train.py"
   ]
  },
  {
   "cell_type": "code",
   "execution_count": 10,
   "metadata": {},
   "outputs": [
    {
     "name": "stderr",
     "output_type": "stream",
     "text": [
      "2020-06-12 19:11:30.497636: W tensorflow/stream_executor/platform/default/dso_loader.cc:55] Could not load dynamic library 'cudart64_100.dll'; dlerror: cudart64_100.dll not found\n",
      "2020-06-12 19:11:30.498047: I tensorflow/stream_executor/cuda/cudart_stub.cc:29] Ignore above cudart dlerror if you do not have a GPU set up on your machine.\n",
      "2020-06-12 19:12:09.951185: I tensorflow/core/platform/cpu_feature_guard.cc:142] Your CPU supports instructions that this TensorFlow binary was not compiled to use: AVX2\n",
      "2020-06-12 19:12:09.963816: I tensorflow/stream_executor/platform/default/dso_loader.cc:44] Successfully opened dynamic library nvcuda.dll\n",
      "2020-06-12 19:12:10.045939: I tensorflow/core/common_runtime/gpu/gpu_device.cc:1618] Found device 0 with properties: \n",
      "name: GeForce GTX 1660 Ti major: 7 minor: 5 memoryClockRate(GHz): 1.59\n",
      "pciBusID: 0000:01:00.0\n",
      "2020-06-12 19:12:10.050315: W tensorflow/stream_executor/platform/default/dso_loader.cc:55] Could not load dynamic library 'cudart64_100.dll'; dlerror: cudart64_100.dll not found\n",
      "2020-06-12 19:12:10.052187: W tensorflow/stream_executor/platform/default/dso_loader.cc:55] Could not load dynamic library 'cublas64_100.dll'; dlerror: cublas64_100.dll not found\n",
      "2020-06-12 19:12:10.054039: W tensorflow/stream_executor/platform/default/dso_loader.cc:55] Could not load dynamic library 'cufft64_100.dll'; dlerror: cufft64_100.dll not found\n",
      "2020-06-12 19:12:10.055931: W tensorflow/stream_executor/platform/default/dso_loader.cc:55] Could not load dynamic library 'curand64_100.dll'; dlerror: curand64_100.dll not found\n",
      "2020-06-12 19:12:10.057781: W tensorflow/stream_executor/platform/default/dso_loader.cc:55] Could not load dynamic library 'cusolver64_100.dll'; dlerror: cusolver64_100.dll not found\n",
      "2020-06-12 19:12:10.059682: W tensorflow/stream_executor/platform/default/dso_loader.cc:55] Could not load dynamic library 'cusparse64_100.dll'; dlerror: cusparse64_100.dll not found\n",
      "2020-06-12 19:12:10.459841: I tensorflow/stream_executor/platform/default/dso_loader.cc:44] Successfully opened dynamic library cudnn64_7.dll\n",
      "2020-06-12 19:12:10.460049: W tensorflow/core/common_runtime/gpu/gpu_device.cc:1641] Cannot dlopen some GPU libraries. Please make sure the missing libraries mentioned above are installed properly if you would like to use GPU. Follow the guide at https://www.tensorflow.org/install/gpu for how to download and setup the required libraries for your platform.\n",
      "Skipping registering GPU devices...\n",
      "2020-06-12 19:12:10.588601: I tensorflow/core/common_runtime/gpu/gpu_device.cc:1159] Device interconnect StreamExecutor with strength 1 edge matrix:\n",
      "2020-06-12 19:12:10.588867: I tensorflow/core/common_runtime/gpu/gpu_device.cc:1165]      0 \n",
      "2020-06-12 19:12:10.589055: I tensorflow/core/common_runtime/gpu/gpu_device.cc:1178] 0:   N \n",
      "WARNING:tensorflow:From D:\\mekoh\\bluehouse\\text-cnn-tf\\cnn-text-classification-tf\\text_cnn.py:65: calling dropout (from tensorflow.python.ops.nn_ops) with keep_prob is deprecated and will be removed in a future version.\n",
      "Instructions for updating:\n",
      "Please use `rate` instead of `keep_prob`. Rate should be set to `rate = 1 - keep_prob`.\n",
      "WARNING:tensorflow:\n",
      "The TensorFlow contrib module will not be included in TensorFlow 2.0.\n",
      "For more information, please see:\n"
     ]
    },
    {
     "name": "stdout",
     "output_type": "stream",
     "text": [
      "\n",
      "Parameters:\n",
      "ALLOW_SOFT_PLACEMENT=<absl.flags._flag.BooleanFlag object at 0x000001D3544E9048>\n",
      "ALSOLOGTOSTDERR=<absl.flags._flag.BooleanFlag object at 0x000001D34ECD6E80>\n",
      "BATCH_SIZE=<absl.flags._flag.Flag object at 0x000001D3544D6DD8>\n",
      "CHECKPOINT_EVERY=<absl.flags._flag.Flag object at 0x000001D3544D6FD0>\n",
      "CLASS_DATA_FILE=<absl.flags._flag.Flag object at 0x000001D3544E92E8>\n",
      "DEV_DATA_FILE=<absl.flags._flag.Flag object at 0x000001D3544E9278>\n",
      "DROPOUT_KEEP_PROB=<absl.flags._flag.Flag object at 0x000001D3544D6C88>\n",
      "EMBEDDING_DIM=<absl.flags._flag.Flag object at 0x000001D335D9E9B0>\n",
      "EVALUATE_EVERY=<absl.flags._flag.Flag object at 0x000001D3544D6F28>\n",
      "FILTER_SIZES=<absl.flags._flag.Flag object at 0x000001D335F47400>\n",
      "L2_REG_LAMBDA=<absl.flags._flag.Flag object at 0x000001D3544D6D30>\n",
      "LOG_DEVICE_PLACEMENT=<absl.flags._flag.BooleanFlag object at 0x000001D3544E90F0>\n",
      "LOG_DIR=<absl.flags._flag.Flag object at 0x000001D34ECD6F28>\n",
      "LOGTOSTDERR=<absl.flags._flag.BooleanFlag object at 0x000001D34EABD438>\n",
      "NUM_EPOCHS=<absl.flags._flag.Flag object at 0x000001D3544D6E80>\n",
      "NUM_FILTERS=<absl.flags._flag.Flag object at 0x000001D3544D6BA8>\n",
      "ONLY_CHECK_ARGS=<absl.flags._flag.BooleanFlag object at 0x000001D34ECDE748>\n",
      "OP_CONVERSION_FALLBACK_TO_WHILE_LOOP=<absl.flags._flag.BooleanFlag object at 0x000001D351193710>\n",
      "PDB_POST_MORTEM=<absl.flags._flag.BooleanFlag object at 0x000001D34ECCE240>\n",
      "PROFILE_FILE=<absl.flags._flag.Flag object at 0x000001D34ECDE6A0>\n",
      "RUN_WITH_PDB=<absl.flags._flag.BooleanFlag object at 0x000001D34EA7FF60>\n",
      "RUN_WITH_PROFILING=<absl.flags._flag.BooleanFlag object at 0x000001D34ECDE5F8>\n",
      "SHOWPREFIXFORINFO=<absl.flags._flag.BooleanFlag object at 0x000001D34ECDE1D0>\n",
      "STDERRTHRESHOLD=<absl.logging._StderrthresholdFlag object at 0x000001D34ECDE0B8>\n",
      "TEST_RANDOM_SEED=<absl.flags._flag.Flag object at 0x000001D3523D0668>\n",
      "TEST_RANDOMIZE_ORDERING_SEED=<absl.flags._flag.Flag object at 0x000001D3523E5CF8>\n",
      "TEST_SRCDIR=<absl.flags._flag.Flag object at 0x000001D3523D07B8>\n",
      "TEST_TMPDIR=<absl.flags._flag.Flag object at 0x000001D3523D0940>\n",
      "TRAIN_DATA_FILE=<absl.flags._flag.Flag object at 0x000001D3544E9208>\n",
      "USE_CPROFILE_FOR_PROFILING=<absl.flags._flag.BooleanFlag object at 0x000001D34ECDE6D8>\n",
      "V=<absl.logging._VerbosityFlag object at 0x000001D34ECD6F98>\n",
      "VERBOSITY=<absl.logging._VerbosityFlag object at 0x000001D34ECD6F98>\n",
      "XML_OUTPUT_FILE=<absl.flags._flag.Flag object at 0x000001D3523E5240>\n",
      "\n",
      "Loading data...\n",
      "Vocabulary Size: 62491\n",
      "Train/Dev split: 31992/8000\n",
      "filter_size = 3\n",
      "pooled :: Tensor(\"conv-maxpool-3/pool:0\", shape=(?, 1, 1, 128), dtype=float32)\n",
      "filter_size = 4\n",
      "pooled :: Tensor(\"conv-maxpool-4/pool:0\", shape=(?, 1, 1, 128), dtype=float32)\n",
      "filter_size = 5\n",
      "pooled :: Tensor(\"conv-maxpool-5/pool:0\", shape=(?, 1, 1, 128), dtype=float32)\n",
      "Writing to D:\\mekoh\\bluehouse\\text-cnn-tf\\cnn-text-classification-tf\\runs\\1591956733\n",
      "\n",
      "2020-06-12T19:13:00.038325: step 1, loss 4.37109, acc 0.3125\n",
      "2020-06-12T19:13:44.227165: step 2, loss 4.22375, acc 0.25\n",
      "2020-06-12T19:14:24.801626: step 3, loss 3.99886, acc 0.3125\n",
      "2020-06-12T19:15:07.874493: step 4, loss 3.00193, acc 0.390625\n",
      "2020-06-12T19:15:41.723938: step 5, loss 4.46627, acc 0.3125\n",
      "2020-06-12T19:16:16.928845: step 6, loss 3.49186, acc 0.390625\n",
      "2020-06-12T19:16:51.687893: step 7, loss 4.12447, acc 0.390625\n",
      "2020-06-12T19:17:28.434597: step 8, loss 3.78114, acc 0.265625\n",
      "2020-06-12T19:18:09.944602: step 9, loss 3.5557, acc 0.34375\n",
      "2020-06-12T19:18:47.633719: step 10, loss 2.84348, acc 0.375\n",
      "2020-06-12T19:19:24.525870: step 11, loss 3.3978, acc 0.421875\n",
      "2020-06-12T19:19:59.286922: step 12, loss 4.38484, acc 0.328125\n",
      "2020-06-12T19:20:36.877337: step 13, loss 3.69482, acc 0.375\n",
      "2020-06-12T19:21:15.388966: step 14, loss 3.76695, acc 0.28125\n",
      "2020-06-12T19:21:49.197493: step 15, loss 2.75068, acc 0.375\n",
      "2020-06-12T19:22:25.837535: step 16, loss 3.1625, acc 0.359375\n",
      "2020-06-12T19:23:02.352894: step 17, loss 3.6644, acc 0.421875\n",
      "2020-06-12T19:23:39.428753: step 18, loss 4.42672, acc 0.25\n",
      "2020-06-12T19:24:16.516581: step 19, loss 2.46181, acc 0.46875\n",
      "2020-06-12T19:24:56.063834: step 20, loss 3.82234, acc 0.359375\n",
      "2020-06-12T19:25:34.276653: step 21, loss 3.68279, acc 0.296875\n",
      "2020-06-12T19:26:15.205245: step 22, loss 3.11069, acc 0.3125\n",
      "2020-06-12T19:26:58.010785: step 23, loss 3.55137, acc 0.328125\n",
      "2020-06-12T19:27:35.858582: step 24, loss 3.45199, acc 0.359375\n",
      "2020-06-12T19:28:13.368282: step 25, loss 3.54001, acc 0.4375\n",
      "2020-06-12T19:28:53.443121: step 26, loss 3.00955, acc 0.421875\n",
      "2020-06-12T19:29:29.879693: step 27, loss 2.55844, acc 0.40625\n",
      "2020-06-12T19:30:11.937231: step 28, loss 2.69779, acc 0.34375\n",
      "2020-06-12T19:30:49.130776: step 29, loss 4.03326, acc 0.234375\n",
      "2020-06-12T19:31:24.677726: step 30, loss 2.77207, acc 0.53125\n",
      "2020-06-12T19:32:02.114621: step 31, loss 2.91833, acc 0.375\n",
      "2020-06-12T19:32:40.467068: step 32, loss 3.2885, acc 0.390625\n",
      "2020-06-12T19:33:21.644960: step 33, loss 3.13603, acc 0.265625\n",
      "2020-06-12T19:34:00.216819: step 34, loss 2.54156, acc 0.484375\n",
      "2020-06-12T19:34:38.681966: step 35, loss 3.43875, acc 0.421875\n",
      "2020-06-12T19:35:18.830609: step 36, loss 2.90351, acc 0.390625\n",
      "2020-06-12T19:35:52.996252: step 37, loss 3.15287, acc 0.390625\n",
      "2020-06-12T19:36:32.808865: step 38, loss 3.50963, acc 0.3125\n",
      "2020-06-12T19:37:10.646687: step 39, loss 3.66014, acc 0.296875\n",
      "2020-06-12T19:37:48.207187: step 40, loss 3.31998, acc 0.375\n",
      "2020-06-12T19:38:29.064935: step 41, loss 2.97676, acc 0.3125\n",
      "2020-06-12T19:39:07.014460: step 42, loss 3.02155, acc 0.390625\n",
      "2020-06-12T19:39:46.380196: step 43, loss 3.02308, acc 0.328125\n",
      "2020-06-12T19:40:24.547238: step 44, loss 2.79069, acc 0.421875\n",
      "2020-06-12T19:41:07.269001: step 45, loss 3.10395, acc 0.390625\n",
      "2020-06-12T19:41:43.613832: step 46, loss 3.2892, acc 0.328125\n",
      "2020-06-12T19:42:18.465640: step 47, loss 3.29338, acc 0.359375\n",
      "2020-06-12T19:42:57.968092: step 48, loss 2.39228, acc 0.328125\n",
      "2020-06-12T19:43:35.286346: step 49, loss 2.82418, acc 0.421875\n",
      "2020-06-12T19:44:12.077970: step 50, loss 2.54071, acc 0.484375\n",
      "2020-06-12T19:44:50.516217: step 51, loss 2.54876, acc 0.4375\n",
      "2020-06-12T19:45:33.956374: step 52, loss 2.72926, acc 0.375\n",
      "2020-06-12T19:46:15.703706: step 53, loss 3.55563, acc 0.296875\n",
      "2020-06-12T19:46:52.063483: step 54, loss 3.13097, acc 0.390625\n",
      "2020-06-12T19:47:29.852437: step 55, loss 3.76322, acc 0.34375\n",
      "2020-06-12T19:48:12.404723: step 56, loss 2.59144, acc 0.453125\n",
      "2020-06-12T19:48:52.942326: step 57, loss 2.84202, acc 0.359375\n",
      "2020-06-12T19:49:27.242583: step 58, loss 2.58983, acc 0.375\n",
      "2020-06-12T19:50:02.576130: step 59, loss 2.07962, acc 0.40625\n",
      "2020-06-12T19:50:39.565185: step 60, loss 3.2481, acc 0.328125\n",
      "2020-06-12T19:51:14.496819: step 61, loss 3.40812, acc 0.28125\n",
      "2020-06-12T19:51:49.386494: step 62, loss 2.52853, acc 0.46875\n",
      "2020-06-12T19:52:23.780525: step 63, loss 3.00604, acc 0.4375\n",
      "2020-06-12T19:52:59.382348: step 64, loss 2.80028, acc 0.40625\n",
      "2020-06-12T19:53:39.017345: step 65, loss 2.72223, acc 0.4375\n",
      "2020-06-12T19:54:17.060646: step 66, loss 2.43632, acc 0.421875\n",
      "2020-06-12T19:54:54.659072: step 67, loss 3.27435, acc 0.375\n",
      "2020-06-12T19:55:32.346336: step 68, loss 2.25684, acc 0.421875\n",
      "2020-06-12T19:56:17.244271: step 69, loss 2.81227, acc 0.34375\n",
      "2020-06-12T19:56:55.692831: step 70, loss 2.53835, acc 0.390625\n",
      "2020-06-12T19:57:36.129703: step 71, loss 1.98983, acc 0.46875\n",
      "2020-06-12T19:58:14.565925: step 72, loss 2.10373, acc 0.453125\n",
      "2020-06-12T19:58:49.590242: step 73, loss 2.14282, acc 0.515625\n",
      "2020-06-12T19:59:25.357620: step 74, loss 2.7999, acc 0.4375\n",
      "2020-06-12T20:00:01.577812: step 75, loss 2.50554, acc 0.4375\n"
     ]
    },
    {
     "name": "stderr",
     "output_type": "stream",
     "text": [
      "  * https://github.com/tensorflow/community/blob/master/rfcs/20180907-contrib-sunset.md\n",
      "  * https://github.com/tensorflow/addons\n",
      "  * https://github.com/tensorflow/io (for I/O related ops)\n",
      "If you depend on functionality not listed there, please file an issue.\n",
      "\n",
      "WARNING:tensorflow:From D:\\mekoh\\bluehouse\\text-cnn-tf\\cnn-text-classification-tf\\text_cnn.py:82: softmax_cross_entropy_with_logits (from tensorflow.python.ops.nn_ops) is deprecated and will be removed in a future version.\n",
      "Instructions for updating:\n",
      "\n",
      "Future major versions of TensorFlow will allow gradients to flow\n",
      "into the labels input on backprop by default.\n",
      "\n",
      "See `tf.nn.softmax_cross_entropy_with_logits_v2`.\n",
      "\n",
      "2020-06-12 19:12:14.411940: W tensorflow/core/framework/cpu_allocator_impl.cc:81] Allocation of 2047705088 exceeds 10% of system memory.\n",
      "2020-06-12 19:12:14.599353: W tensorflow/core/framework/cpu_allocator_impl.cc:81] Allocation of 2047606784 exceeds 10% of system memory.\n",
      "2020-06-12 19:12:14.599367: W tensorflow/core/framework/cpu_allocator_impl.cc:81] Allocation of 2047574016 exceeds 10% of system memory.\n",
      "2020-06-12 19:12:14.599368: W tensorflow/core/framework/cpu_allocator_impl.cc:81] Allocation of 2047639552 exceeds 10% of system memory.\n",
      "2020-06-12 19:12:23.831006: W tensorflow/core/framework/cpu_allocator_impl.cc:81] Allocation of 2047639552 exceeds 10% of system memory.\n",
      "2020-06-12 20:15:37.247586: W tensorflow/core/framework/op_kernel.cc:1651] OP_REQUIRES failed at gather_op.cc:148 : Resource exhausted: OOM when allocating tensor with shape[8000,62491,128] and type float on /job:localhost/replica:0/task:0/device:CPU:0 by allocator cpu\n",
      "Traceback (most recent call last):\n",
      "  File \"C:\\Users\\kkk\\Anaconda3\\envs\\tf1\\lib\\site-packages\\tensorflow_core\\python\\client\\session.py\", line 1365, in _do_call\n",
      "    return fn(*args)\n",
      "  File \"C:\\Users\\kkk\\Anaconda3\\envs\\tf1\\lib\\site-packages\\tensorflow_core\\python\\client\\session.py\", line 1350, in _run_fn\n",
      "    target_list, run_metadata)\n",
      "  File \"C:\\Users\\kkk\\Anaconda3\\envs\\tf1\\lib\\site-packages\\tensorflow_core\\python\\client\\session.py\", line 1443, in _call_tf_sessionrun\n",
      "    run_metadata)\n",
      "tensorflow.python.framework.errors_impl.ResourceExhaustedError: OOM when allocating tensor with shape[8000,62491,128] and type float on /job:localhost/replica:0/task:0/device:CPU:0 by allocator cpu\n",
      "\t [[{{node embedding/embedding_lookup}}]]\n",
      "Hint: If you want to see a list of allocated tensors when OOM happens, add report_tensor_allocations_upon_oom to RunOptions for current allocation info.\n",
      "\n",
      "\n",
      "During handling of the above exception, another exception occurred:\n",
      "\n",
      "Traceback (most recent call last):\n",
      "  File \"train.py\", line 166, in <module>\n",
      "    dev_step(x_dev, y_dev, writer=dev_summary_writer)\n",
      "  File \"train.py\", line 150, in dev_step\n",
      "    feed_dict)\n",
      "  File \"C:\\Users\\kkk\\Anaconda3\\envs\\tf1\\lib\\site-packages\\tensorflow_core\\python\\client\\session.py\", line 956, in run\n",
      "    run_metadata_ptr)\n",
      "  File \"C:\\Users\\kkk\\Anaconda3\\envs\\tf1\\lib\\site-packages\\tensorflow_core\\python\\client\\session.py\", line 1180, in _run\n",
      "    feed_dict_tensor, options, run_metadata)\n",
      "  File \"C:\\Users\\kkk\\Anaconda3\\envs\\tf1\\lib\\site-packages\\tensorflow_core\\python\\client\\session.py\", line 1359, in _do_run\n",
      "    run_metadata)\n",
      "  File \"C:\\Users\\kkk\\Anaconda3\\envs\\tf1\\lib\\site-packages\\tensorflow_core\\python\\client\\session.py\", line 1384, in _do_call\n",
      "    raise type(e)(node_def, op, message)\n",
      "tensorflow.python.framework.errors_impl.ResourceExhaustedError: OOM when allocating tensor with shape[8000,62491,128] and type float on /job:localhost/replica:0/task:0/device:CPU:0 by allocator cpu\n",
      "\t [[node embedding/embedding_lookup (defined at C:\\Users\\kkk\\Anaconda3\\envs\\tf1\\lib\\site-packages\\tensorflow_core\\python\\framework\\ops.py:1748) ]]\n",
      "Hint: If you want to see a list of allocated tensors when OOM happens, add report_tensor_allocations_upon_oom to RunOptions for current allocation info.\n",
      "\n",
      "\n",
      "Original stack trace for 'embedding/embedding_lookup':\n",
      "  File \"train.py\", line 73, in <module>\n",
      "    l2_reg_lambda=FLAGS.l2_reg_lambda)\n",
      "  File \"D:\\mekoh\\bluehouse\\text-cnn-tf\\cnn-text-classification-tf\\text_cnn.py\", line 27, in __init__\n",
      "    self.embedded_chars = tf.nn.embedding_lookup(W, self.input_x)\n",
      "  File \"C:\\Users\\kkk\\Anaconda3\\envs\\tf1\\lib\\site-packages\\tensorflow_core\\python\\ops\\embedding_ops.py\", line 317, in embedding_lookup\n",
      "    transform_fn=None)\n",
      "  File \"C:\\Users\\kkk\\Anaconda3\\envs\\tf1\\lib\\site-packages\\tensorflow_core\\python\\ops\\embedding_ops.py\", line 135, in _embedding_lookup_and_transform\n",
      "    array_ops.gather(params[0], ids, name=name), ids, max_norm)\n",
      "  File \"C:\\Users\\kkk\\Anaconda3\\envs\\tf1\\lib\\site-packages\\tensorflow_core\\python\\util\\dispatch.py\", line 180, in wrapper\n",
      "    return target(*args, **kwargs)\n",
      "  File \"C:\\Users\\kkk\\Anaconda3\\envs\\tf1\\lib\\site-packages\\tensorflow_core\\python\\ops\\array_ops.py\", line 3956, in gather\n",
      "    params, indices, axis, name=name)\n",
      "  File \"C:\\Users\\kkk\\Anaconda3\\envs\\tf1\\lib\\site-packages\\tensorflow_core\\python\\ops\\gen_array_ops.py\", line 4082, in gather_v2\n",
      "    batch_dims=batch_dims, name=name)\n",
      "  File \"C:\\Users\\kkk\\Anaconda3\\envs\\tf1\\lib\\site-packages\\tensorflow_core\\python\\framework\\op_def_library.py\", line 794, in _apply_op_helper\n",
      "    op_def=op_def)\n",
      "  File \"C:\\Users\\kkk\\Anaconda3\\envs\\tf1\\lib\\site-packages\\tensorflow_core\\python\\util\\deprecation.py\", line 507, in new_func\n",
      "    return func(*args, **kwargs)\n",
      "  File \"C:\\Users\\kkk\\Anaconda3\\envs\\tf1\\lib\\site-packages\\tensorflow_core\\python\\framework\\ops.py\", line 3357, in create_op\n",
      "    attrs, op_def, compute_device)\n",
      "  File \"C:\\Users\\kkk\\Anaconda3\\envs\\tf1\\lib\\site-packages\\tensorflow_core\\python\\framework\\ops.py\", line 3426, in _create_op_internal\n",
      "    op_def=op_def)\n",
      "  File \"C:\\Users\\kkk\\Anaconda3\\envs\\tf1\\lib\\site-packages\\tensorflow_core\\python\\framework\\ops.py\", line 1748, in __init__\n",
      "    self._traceback = tf_stack.extract_stack()\n",
      "\n"
     ]
    },
    {
     "name": "stdout",
     "output_type": "stream",
     "text": [
      "2020-06-12T20:00:36.997059: step 76, loss 2.71889, acc 0.375\n",
      "2020-06-12T20:01:12.484211: step 77, loss 1.99869, acc 0.515625\n",
      "2020-06-12T20:01:53.523501: step 78, loss 2.4617, acc 0.40625\n",
      "2020-06-12T20:02:30.047828: step 79, loss 2.37739, acc 0.375\n",
      "2020-06-12T20:03:06.350690: step 80, loss 3.14161, acc 0.34375\n",
      "2020-06-12T20:03:42.496085: step 81, loss 3.01148, acc 0.328125\n",
      "2020-06-12T20:04:19.851199: step 82, loss 2.37866, acc 0.4375\n",
      "2020-06-12T20:05:00.313580: step 83, loss 2.9793, acc 0.390625\n",
      "2020-06-12T20:05:38.373809: step 84, loss 2.91474, acc 0.375\n",
      "2020-06-12T20:06:15.559375: step 85, loss 2.80545, acc 0.421875\n",
      "2020-06-12T20:06:50.903867: step 86, loss 2.47896, acc 0.46875\n",
      "2020-06-12T20:07:25.592111: step 87, loss 2.35134, acc 0.40625\n",
      "2020-06-12T20:08:00.347216: step 88, loss 2.86834, acc 0.359375\n",
      "2020-06-12T20:08:37.762132: step 89, loss 3.05965, acc 0.359375\n",
      "2020-06-12T20:09:16.084658: step 90, loss 2.33484, acc 0.359375\n",
      "2020-06-12T20:09:50.332082: step 91, loss 2.11903, acc 0.390625\n",
      "2020-06-12T20:10:26.138337: step 92, loss 2.6566, acc 0.359375\n",
      "2020-06-12T20:11:02.144058: step 93, loss 2.25533, acc 0.453125\n",
      "2020-06-12T20:11:37.112553: step 94, loss 3.32948, acc 0.328125\n",
      "2020-06-12T20:12:22.522129: step 95, loss 2.04388, acc 0.421875\n",
      "2020-06-12T20:13:05.291506: step 96, loss 2.87958, acc 0.375\n",
      "2020-06-12T20:13:47.384274: step 97, loss 2.49261, acc 0.375\n",
      "2020-06-12T20:14:27.145029: step 98, loss 1.82258, acc 0.515625\n",
      "2020-06-12T20:15:02.226148: step 99, loss 2.40815, acc 0.421875\n",
      "2020-06-12T20:15:36.687999: step 100, loss 2.56176, acc 0.4375\n",
      "\n",
      "Evaluation:\n"
     ]
    }
   ],
   "source": [
    "!python train.py"
   ]
  },
  {
   "cell_type": "code",
   "execution_count": 27,
   "metadata": {},
   "outputs": [],
   "source": [
    "import pandas as pd\n",
    "\n",
    "train = pd.read_csv('./data/bh_big.train', encoding='utf-8', header=None)"
   ]
  },
  {
   "cell_type": "code",
   "execution_count": 28,
   "metadata": {},
   "outputs": [
    {
     "data": {
      "text/html": [
       "<div>\n",
       "<style scoped>\n",
       "    .dataframe tbody tr th:only-of-type {\n",
       "        vertical-align: middle;\n",
       "    }\n",
       "\n",
       "    .dataframe tbody tr th {\n",
       "        vertical-align: top;\n",
       "    }\n",
       "\n",
       "    .dataframe thead th {\n",
       "        text-align: right;\n",
       "    }\n",
       "</style>\n",
       "<table border=\"1\" class=\"dataframe\">\n",
       "  <thead>\n",
       "    <tr style=\"text-align: right;\">\n",
       "      <th></th>\n",
       "      <th>0</th>\n",
       "      <th>1</th>\n",
       "    </tr>\n",
       "  </thead>\n",
       "  <tbody>\n",
       "    <tr>\n",
       "      <th>0</th>\n",
       "      <td>평창 올림픽 개막식 및 폐막식 아이돌 섭외 반대 합니다 아시안 게임 에서 비 스포츠...</td>\n",
       "      <td>문화/예술/체육/언론</td>\n",
       "    </tr>\n",
       "    <tr>\n",
       "      <th>1</th>\n",
       "      <td>여성 가족 부도 세 종시 로 이전 시키 세요 서울 있 이유 없 어요</td>\n",
       "      <td>인권/성평등</td>\n",
       "    </tr>\n",
       "    <tr>\n",
       "      <th>2</th>\n",
       "      <td>태권 승품 및 승단 시험 심사 비 과다 징 수건 대한민국 국기 인 태권 상당수 부모...</td>\n",
       "      <td>육아/교육</td>\n",
       "    </tr>\n",
       "    <tr>\n",
       "      <th>3</th>\n",
       "      <td>조희진 진상 조사 단장 해 임해 주 세요 불 공정 함 철저 수사 될 리 없 습니다 ...</td>\n",
       "      <td>인권/성평등</td>\n",
       "    </tr>\n",
       "    <tr>\n",
       "      <th>4</th>\n",
       "      <td>최저 임금 차등 화 안녕 하 세요 저 업종 근무 중 인 대 여자 입니다 사무직 오래...</td>\n",
       "      <td>인권/성평등</td>\n",
       "    </tr>\n",
       "    <tr>\n",
       "      <th>...</th>\n",
       "      <td>...</td>\n",
       "      <td>...</td>\n",
       "    </tr>\n",
       "    <tr>\n",
       "      <th>31987</th>\n",
       "      <td>특수 학교 학급 의무 화 꼭 필요 합니다 저 살 정신 지체 아이 키우 고 있 평범 ...</td>\n",
       "      <td>인권/성평등</td>\n",
       "    </tr>\n",
       "    <tr>\n",
       "      <th>31988</th>\n",
       "      <td>대한민국 축구 대하 여 김신욱 선수 국가 대표 마크 삭제 시켜 주 십시오</td>\n",
       "      <td>문화/예술/체육/언론</td>\n",
       "    </tr>\n",
       "    <tr>\n",
       "      <th>31989</th>\n",
       "      <td>언론사 뿌리내린 페미 메 갈 기자 축출 해야 한다 예전 에서 일 베 출신 기자 해고...</td>\n",
       "      <td>인권/성평등</td>\n",
       "    </tr>\n",
       "    <tr>\n",
       "      <th>31990</th>\n",
       "      <td>축구 협회 청산 축협 적폐 청산 해 주 십시오</td>\n",
       "      <td>문화/예술/체육/언론</td>\n",
       "    </tr>\n",
       "    <tr>\n",
       "      <th>31991</th>\n",
       "      <td>특수 유아 지원 더 필요 합니다 안녕 하 세요 아들 딸 둔 아빠 입니다 내년 살 되...</td>\n",
       "      <td>육아/교육</td>\n",
       "    </tr>\n",
       "  </tbody>\n",
       "</table>\n",
       "<p>31992 rows × 2 columns</p>\n",
       "</div>"
      ],
      "text/plain": [
       "                                                       0            1\n",
       "0      평창 올림픽 개막식 및 폐막식 아이돌 섭외 반대 합니다 아시안 게임 에서 비 스포츠...  문화/예술/체육/언론\n",
       "1                  여성 가족 부도 세 종시 로 이전 시키 세요 서울 있 이유 없 어요       인권/성평등\n",
       "2      태권 승품 및 승단 시험 심사 비 과다 징 수건 대한민국 국기 인 태권 상당수 부모...        육아/교육\n",
       "3      조희진 진상 조사 단장 해 임해 주 세요 불 공정 함 철저 수사 될 리 없 습니다 ...       인권/성평등\n",
       "4      최저 임금 차등 화 안녕 하 세요 저 업종 근무 중 인 대 여자 입니다 사무직 오래...       인권/성평등\n",
       "...                                                  ...          ...\n",
       "31987  특수 학교 학급 의무 화 꼭 필요 합니다 저 살 정신 지체 아이 키우 고 있 평범 ...       인권/성평등\n",
       "31988           대한민국 축구 대하 여 김신욱 선수 국가 대표 마크 삭제 시켜 주 십시오  문화/예술/체육/언론\n",
       "31989  언론사 뿌리내린 페미 메 갈 기자 축출 해야 한다 예전 에서 일 베 출신 기자 해고...       인권/성평등\n",
       "31990                          축구 협회 청산 축협 적폐 청산 해 주 십시오  문화/예술/체육/언론\n",
       "31991  특수 유아 지원 더 필요 합니다 안녕 하 세요 아들 딸 둔 아빠 입니다 내년 살 되...        육아/교육\n",
       "\n",
       "[31992 rows x 2 columns]"
      ]
     },
     "execution_count": 28,
     "metadata": {},
     "output_type": "execute_result"
    }
   ],
   "source": [
    "train"
   ]
  },
  {
   "cell_type": "code",
   "execution_count": 32,
   "metadata": {},
   "outputs": [
    {
     "data": {
      "text/html": [
       "<div>\n",
       "<style scoped>\n",
       "    .dataframe tbody tr th:only-of-type {\n",
       "        vertical-align: middle;\n",
       "    }\n",
       "\n",
       "    .dataframe tbody tr th {\n",
       "        vertical-align: top;\n",
       "    }\n",
       "\n",
       "    .dataframe thead th {\n",
       "        text-align: right;\n",
       "    }\n",
       "</style>\n",
       "<table border=\"1\" class=\"dataframe\">\n",
       "  <thead>\n",
       "    <tr style=\"text-align: right;\">\n",
       "      <th></th>\n",
       "      <th>0</th>\n",
       "    </tr>\n",
       "    <tr>\n",
       "      <th>1</th>\n",
       "      <th></th>\n",
       "    </tr>\n",
       "  </thead>\n",
       "  <tbody>\n",
       "    <tr>\n",
       "      <th>문화/예술/체육/언론</th>\n",
       "      <td>10658</td>\n",
       "    </tr>\n",
       "    <tr>\n",
       "      <th>육아/교육</th>\n",
       "      <td>10663</td>\n",
       "    </tr>\n",
       "    <tr>\n",
       "      <th>인권/성평등</th>\n",
       "      <td>10661</td>\n",
       "    </tr>\n",
       "  </tbody>\n",
       "</table>\n",
       "</div>"
      ],
      "text/plain": [
       "                 0\n",
       "1                 \n",
       "문화/예술/체육/언론  10658\n",
       "육아/교육        10663\n",
       "인권/성평등       10661"
      ]
     },
     "execution_count": 32,
     "metadata": {},
     "output_type": "execute_result"
    }
   ],
   "source": [
    "train.groupby(1).count()"
   ]
  },
  {
   "cell_type": "code",
   "execution_count": 33,
   "metadata": {},
   "outputs": [
    {
     "data": {
      "text/html": [
       "<div>\n",
       "<style scoped>\n",
       "    .dataframe tbody tr th:only-of-type {\n",
       "        vertical-align: middle;\n",
       "    }\n",
       "\n",
       "    .dataframe tbody tr th {\n",
       "        vertical-align: top;\n",
       "    }\n",
       "\n",
       "    .dataframe thead th {\n",
       "        text-align: right;\n",
       "    }\n",
       "</style>\n",
       "<table border=\"1\" class=\"dataframe\">\n",
       "  <thead>\n",
       "    <tr style=\"text-align: right;\">\n",
       "      <th></th>\n",
       "      <th>0</th>\n",
       "      <th>1</th>\n",
       "    </tr>\n",
       "  </thead>\n",
       "  <tbody>\n",
       "    <tr>\n",
       "      <th>0</th>\n",
       "      <td>살인마 전두환 대체 왜 살려 두 겁니까 때 스러져간 수많 억울 죽음 그 원혼 풀 어...</td>\n",
       "      <td>인권/성평등</td>\n",
       "    </tr>\n",
       "    <tr>\n",
       "      <th>1</th>\n",
       "      <td>동의 합니다 동의 합니다</td>\n",
       "      <td>육아/교육</td>\n",
       "    </tr>\n",
       "    <tr>\n",
       "      <th>2</th>\n",
       "      <td>소년법 폐지 악질 범죄 대해 소년법 예외 되 었 으면 좋 겠 습니다</td>\n",
       "      <td>육아/교육</td>\n",
       "    </tr>\n",
       "    <tr>\n",
       "      <th>3</th>\n",
       "      <td>유투 미투 운도 여성 가족 부도 성 차별 하 대 남자 역차별 당하 대 한민 궄 정치...</td>\n",
       "      <td>인권/성평등</td>\n",
       "    </tr>\n",
       "    <tr>\n",
       "      <th>4</th>\n",
       "      <td>군 면제 연예인 면제 사유 대한 재 검증 청원 합니다 최근 년 내 군 면제 판정 받...</td>\n",
       "      <td>문화/예술/체육/언론</td>\n",
       "    </tr>\n",
       "    <tr>\n",
       "      <th>...</th>\n",
       "      <td>...</td>\n",
       "      <td>...</td>\n",
       "    </tr>\n",
       "    <tr>\n",
       "      <th>7995</th>\n",
       "      <td>투기 사건 청원 신청 사람 신상 공개 요구 투기 사건 관련 하 여 청원 신청 사람 ...</td>\n",
       "      <td>인권/성평등</td>\n",
       "    </tr>\n",
       "    <tr>\n",
       "      <th>7996</th>\n",
       "      <td>조두순 출소 반대 조두순 사람 아닙니다 그 어린것 절대 자유 주 면 안 덥 니다</td>\n",
       "      <td>육아/교육</td>\n",
       "    </tr>\n",
       "    <tr>\n",
       "      <th>7997</th>\n",
       "      <td>소년법 폐지 폐지 간곡히 요청 드립니다 임산부 인데 아이 키우 기 겁나 네요 제 자...</td>\n",
       "      <td>인권/성평등</td>\n",
       "    </tr>\n",
       "    <tr>\n",
       "      <th>7998</th>\n",
       "      <td>대학교 수업료 관련 문 드립니다 안녕 하 세요 청와대 여러분 저 올해 로 살인 복학...</td>\n",
       "      <td>육아/교육</td>\n",
       "    </tr>\n",
       "    <tr>\n",
       "      <th>7999</th>\n",
       "      <td>입장권 환불 해 주 세요 평창동 계 올림픽 입장권 구매 하 였 는데 부득이 하 게 ...</td>\n",
       "      <td>문화/예술/체육/언론</td>\n",
       "    </tr>\n",
       "  </tbody>\n",
       "</table>\n",
       "<p>8000 rows × 2 columns</p>\n",
       "</div>"
      ],
      "text/plain": [
       "                                                      0            1\n",
       "0     살인마 전두환 대체 왜 살려 두 겁니까 때 스러져간 수많 억울 죽음 그 원혼 풀 어...       인권/성평등\n",
       "1                                         동의 합니다 동의 합니다        육아/교육\n",
       "2                 소년법 폐지 악질 범죄 대해 소년법 예외 되 었 으면 좋 겠 습니다        육아/교육\n",
       "3     유투 미투 운도 여성 가족 부도 성 차별 하 대 남자 역차별 당하 대 한민 궄 정치...       인권/성평등\n",
       "4     군 면제 연예인 면제 사유 대한 재 검증 청원 합니다 최근 년 내 군 면제 판정 받...  문화/예술/체육/언론\n",
       "...                                                 ...          ...\n",
       "7995  투기 사건 청원 신청 사람 신상 공개 요구 투기 사건 관련 하 여 청원 신청 사람 ...       인권/성평등\n",
       "7996       조두순 출소 반대 조두순 사람 아닙니다 그 어린것 절대 자유 주 면 안 덥 니다        육아/교육\n",
       "7997  소년법 폐지 폐지 간곡히 요청 드립니다 임산부 인데 아이 키우 기 겁나 네요 제 자...       인권/성평등\n",
       "7998  대학교 수업료 관련 문 드립니다 안녕 하 세요 청와대 여러분 저 올해 로 살인 복학...        육아/교육\n",
       "7999  입장권 환불 해 주 세요 평창동 계 올림픽 입장권 구매 하 였 는데 부득이 하 게 ...  문화/예술/체육/언론\n",
       "\n",
       "[8000 rows x 2 columns]"
      ]
     },
     "execution_count": 33,
     "metadata": {},
     "output_type": "execute_result"
    }
   ],
   "source": [
    "test = pd.read_csv('./data/bh_big.test', encoding='utf-8', header=None)\n",
    "test"
   ]
  },
  {
   "cell_type": "code",
   "execution_count": 34,
   "metadata": {},
   "outputs": [
    {
     "data": {
      "text/html": [
       "<div>\n",
       "<style scoped>\n",
       "    .dataframe tbody tr th:only-of-type {\n",
       "        vertical-align: middle;\n",
       "    }\n",
       "\n",
       "    .dataframe tbody tr th {\n",
       "        vertical-align: top;\n",
       "    }\n",
       "\n",
       "    .dataframe thead th {\n",
       "        text-align: right;\n",
       "    }\n",
       "</style>\n",
       "<table border=\"1\" class=\"dataframe\">\n",
       "  <thead>\n",
       "    <tr style=\"text-align: right;\">\n",
       "      <th></th>\n",
       "      <th>0</th>\n",
       "    </tr>\n",
       "    <tr>\n",
       "      <th>1</th>\n",
       "      <th></th>\n",
       "    </tr>\n",
       "  </thead>\n",
       "  <tbody>\n",
       "    <tr>\n",
       "      <th>문화/예술/체육/언론</th>\n",
       "      <td>2671</td>\n",
       "    </tr>\n",
       "    <tr>\n",
       "      <th>육아/교육</th>\n",
       "      <td>2694</td>\n",
       "    </tr>\n",
       "    <tr>\n",
       "      <th>인권/성평등</th>\n",
       "      <td>2635</td>\n",
       "    </tr>\n",
       "  </tbody>\n",
       "</table>\n",
       "</div>"
      ],
      "text/plain": [
       "                0\n",
       "1                \n",
       "문화/예술/체육/언론  2671\n",
       "육아/교육        2694\n",
       "인권/성평등       2635"
      ]
     },
     "execution_count": 34,
     "metadata": {},
     "output_type": "execute_result"
    }
   ],
   "source": [
    "test.groupby(1).count()"
   ]
  },
  {
   "cell_type": "code",
   "execution_count": 38,
   "metadata": {},
   "outputs": [
    {
     "data": {
      "text/html": [
       "<div>\n",
       "<style scoped>\n",
       "    .dataframe tbody tr th:only-of-type {\n",
       "        vertical-align: middle;\n",
       "    }\n",
       "\n",
       "    .dataframe tbody tr th {\n",
       "        vertical-align: top;\n",
       "    }\n",
       "\n",
       "    .dataframe thead th {\n",
       "        text-align: right;\n",
       "    }\n",
       "</style>\n",
       "<table border=\"1\" class=\"dataframe\">\n",
       "  <thead>\n",
       "    <tr style=\"text-align: right;\">\n",
       "      <th></th>\n",
       "      <th>0</th>\n",
       "      <th>1</th>\n",
       "      <th>len</th>\n",
       "    </tr>\n",
       "  </thead>\n",
       "  <tbody>\n",
       "    <tr>\n",
       "      <th>0</th>\n",
       "      <td>평창 올림픽 개막식 및 폐막식 아이돌 섭외 반대 합니다 아시안 게임 에서 비 스포츠...</td>\n",
       "      <td>문화/예술/체육/언론</td>\n",
       "      <td>41</td>\n",
       "    </tr>\n",
       "    <tr>\n",
       "      <th>1</th>\n",
       "      <td>여성 가족 부도 세 종시 로 이전 시키 세요 서울 있 이유 없 어요</td>\n",
       "      <td>인권/성평등</td>\n",
       "      <td>14</td>\n",
       "    </tr>\n",
       "    <tr>\n",
       "      <th>2</th>\n",
       "      <td>태권 승품 및 승단 시험 심사 비 과다 징 수건 대한민국 국기 인 태권 상당수 부모...</td>\n",
       "      <td>육아/교육</td>\n",
       "      <td>172</td>\n",
       "    </tr>\n",
       "    <tr>\n",
       "      <th>3</th>\n",
       "      <td>조희진 진상 조사 단장 해 임해 주 세요 불 공정 함 철저 수사 될 리 없 습니다 ...</td>\n",
       "      <td>인권/성평등</td>\n",
       "      <td>47</td>\n",
       "    </tr>\n",
       "    <tr>\n",
       "      <th>4</th>\n",
       "      <td>최저 임금 차등 화 안녕 하 세요 저 업종 근무 중 인 대 여자 입니다 사무직 오래...</td>\n",
       "      <td>인권/성평등</td>\n",
       "      <td>254</td>\n",
       "    </tr>\n",
       "    <tr>\n",
       "      <th>...</th>\n",
       "      <td>...</td>\n",
       "      <td>...</td>\n",
       "      <td>...</td>\n",
       "    </tr>\n",
       "    <tr>\n",
       "      <th>31987</th>\n",
       "      <td>특수 학교 학급 의무 화 꼭 필요 합니다 저 살 정신 지체 아이 키우 고 있 평범 ...</td>\n",
       "      <td>인권/성평등</td>\n",
       "      <td>134</td>\n",
       "    </tr>\n",
       "    <tr>\n",
       "      <th>31988</th>\n",
       "      <td>대한민국 축구 대하 여 김신욱 선수 국가 대표 마크 삭제 시켜 주 십시오</td>\n",
       "      <td>문화/예술/체육/언론</td>\n",
       "      <td>13</td>\n",
       "    </tr>\n",
       "    <tr>\n",
       "      <th>31989</th>\n",
       "      <td>언론사 뿌리내린 페미 메 갈 기자 축출 해야 한다 예전 에서 일 베 출신 기자 해고...</td>\n",
       "      <td>인권/성평등</td>\n",
       "      <td>244</td>\n",
       "    </tr>\n",
       "    <tr>\n",
       "      <th>31990</th>\n",
       "      <td>축구 협회 청산 축협 적폐 청산 해 주 십시오</td>\n",
       "      <td>문화/예술/체육/언론</td>\n",
       "      <td>9</td>\n",
       "    </tr>\n",
       "    <tr>\n",
       "      <th>31991</th>\n",
       "      <td>특수 유아 지원 더 필요 합니다 안녕 하 세요 아들 딸 둔 아빠 입니다 내년 살 되...</td>\n",
       "      <td>육아/교육</td>\n",
       "      <td>127</td>\n",
       "    </tr>\n",
       "  </tbody>\n",
       "</table>\n",
       "<p>31992 rows × 3 columns</p>\n",
       "</div>"
      ],
      "text/plain": [
       "                                                       0            1  len\n",
       "0      평창 올림픽 개막식 및 폐막식 아이돌 섭외 반대 합니다 아시안 게임 에서 비 스포츠...  문화/예술/체육/언론   41\n",
       "1                  여성 가족 부도 세 종시 로 이전 시키 세요 서울 있 이유 없 어요       인권/성평등   14\n",
       "2      태권 승품 및 승단 시험 심사 비 과다 징 수건 대한민국 국기 인 태권 상당수 부모...        육아/교육  172\n",
       "3      조희진 진상 조사 단장 해 임해 주 세요 불 공정 함 철저 수사 될 리 없 습니다 ...       인권/성평등   47\n",
       "4      최저 임금 차등 화 안녕 하 세요 저 업종 근무 중 인 대 여자 입니다 사무직 오래...       인권/성평등  254\n",
       "...                                                  ...          ...  ...\n",
       "31987  특수 학교 학급 의무 화 꼭 필요 합니다 저 살 정신 지체 아이 키우 고 있 평범 ...       인권/성평등  134\n",
       "31988           대한민국 축구 대하 여 김신욱 선수 국가 대표 마크 삭제 시켜 주 십시오  문화/예술/체육/언론   13\n",
       "31989  언론사 뿌리내린 페미 메 갈 기자 축출 해야 한다 예전 에서 일 베 출신 기자 해고...       인권/성평등  244\n",
       "31990                          축구 협회 청산 축협 적폐 청산 해 주 십시오  문화/예술/체육/언론    9\n",
       "31991  특수 유아 지원 더 필요 합니다 안녕 하 세요 아들 딸 둔 아빠 입니다 내년 살 되...        육아/교육  127\n",
       "\n",
       "[31992 rows x 3 columns]"
      ]
     },
     "execution_count": 38,
     "metadata": {},
     "output_type": "execute_result"
    }
   ],
   "source": [
    "def morph_count(text):\n",
    "    try:\n",
    "        length =len(text.split())\n",
    "    except:\n",
    "        length = 0\n",
    "    return length\n",
    "        \n",
    "train['len'] = train[0].apply(morph_count)\n",
    "train"
   ]
  },
  {
   "cell_type": "code",
   "execution_count": 39,
   "metadata": {},
   "outputs": [
    {
     "data": {
      "text/plain": [
       "count    31992.000000\n",
       "mean       185.619780\n",
       "std        288.670701\n",
       "min          0.000000\n",
       "25%         50.000000\n",
       "50%        108.000000\n",
       "75%        210.000000\n",
       "max      10187.000000\n",
       "Name: len, dtype: float64"
      ]
     },
     "execution_count": 39,
     "metadata": {},
     "output_type": "execute_result"
    }
   ],
   "source": [
    "train['len'].describe()\n"
   ]
  },
  {
   "cell_type": "code",
   "execution_count": 44,
   "metadata": {},
   "outputs": [
    {
     "name": "stdout",
     "output_type": "stream",
     "text": [
      "길이가 500 이하인 데이터의 비율: 93.26 %\n"
     ]
    }
   ],
   "source": [
    "total_count = 0\n",
    "len_count = 0\n",
    "max_len = 500\n",
    "\n",
    "for length in train['len']:\n",
    "    total_count += 1\n",
    "    if length <= max_len:\n",
    "        len_count += 1\n",
    "\n",
    "print('길이가', str(max_len),'이하인 데이터의 비율:', str(round(len_count/total_count*100,2)),'%')"
   ]
  },
  {
   "cell_type": "code",
   "execution_count": 56,
   "metadata": {},
   "outputs": [],
   "source": [
    "import datetime\n",
    "time1 = datetime.datetime.now()"
   ]
  },
  {
   "cell_type": "code",
   "execution_count": 59,
   "metadata": {},
   "outputs": [],
   "source": [
    "time2 = datetime.datetime.now()"
   ]
  },
  {
   "cell_type": "code",
   "execution_count": 69,
   "metadata": {},
   "outputs": [
    {
     "data": {
      "text/plain": [
       "datetime.timedelta(0, 22, 21705)"
      ]
     },
     "execution_count": 69,
     "metadata": {},
     "output_type": "execute_result"
    }
   ],
   "source": [
    "ts"
   ]
  },
  {
   "cell_type": "code",
   "execution_count": 70,
   "metadata": {},
   "outputs": [
    {
     "data": {
      "text/plain": [
       "22.021705"
      ]
     },
     "execution_count": 70,
     "metadata": {},
     "output_type": "execute_result"
    }
   ],
   "source": [
    "\n",
    "ts.total_seconds()"
   ]
  },
  {
   "cell_type": "code",
   "execution_count": 72,
   "metadata": {},
   "outputs": [],
   "source": [
    "dev1 = test[test[1]=='인권/성평등'][:1317]\n",
    "test1 = test[test[1]=='인권/성평등'][1317:]\n",
    "dev2 = test[test[1]=='육아/교육'][:1347]\n",
    "test2 = test[test[1]=='육아/교육'][1347:]\n",
    "dev3 = test[test[1]=='문화/예술/체육/언론'][:1336]\n",
    "test3 = test[test[1]=='문화/예술/체육/언론'][1336:]\n",
    "\n",
    "dev = pd.concat([dev1,dev2,dev3])\n",
    "test_new = pd.concat([test1,test2,test3])"
   ]
  },
  {
   "cell_type": "code",
   "execution_count": 76,
   "metadata": {},
   "outputs": [],
   "source": [
    "from sklearn.utils import shuffle"
   ]
  },
  {
   "cell_type": "code",
   "execution_count": 77,
   "metadata": {},
   "outputs": [],
   "source": [
    "dev = shuffle(dev)\n",
    "test_new = shuffle(test_new)"
   ]
  },
  {
   "cell_type": "code",
   "execution_count": 78,
   "metadata": {},
   "outputs": [
    {
     "data": {
      "text/html": [
       "<div>\n",
       "<style scoped>\n",
       "    .dataframe tbody tr th:only-of-type {\n",
       "        vertical-align: middle;\n",
       "    }\n",
       "\n",
       "    .dataframe tbody tr th {\n",
       "        vertical-align: top;\n",
       "    }\n",
       "\n",
       "    .dataframe thead th {\n",
       "        text-align: right;\n",
       "    }\n",
       "</style>\n",
       "<table border=\"1\" class=\"dataframe\">\n",
       "  <thead>\n",
       "    <tr style=\"text-align: right;\">\n",
       "      <th></th>\n",
       "      <th>0</th>\n",
       "      <th>1</th>\n",
       "    </tr>\n",
       "  </thead>\n",
       "  <tbody>\n",
       "    <tr>\n",
       "      <th>3031</th>\n",
       "      <td>연예계 성추행 조사 청원 합니다 최근 배우 성추행 행실 늘어남 따라 연예계 술렁이 ...</td>\n",
       "      <td>인권/성평등</td>\n",
       "    </tr>\n",
       "    <tr>\n",
       "      <th>1677</th>\n",
       "      <td>광주 여대 성 적 대 자부 안녕 하 세요 정말 지 충격 인 이야기 들어 습니다 다른...</td>\n",
       "      <td>육아/교육</td>\n",
       "    </tr>\n",
       "    <tr>\n",
       "      <th>214</th>\n",
       "      <td>국가 보훈 처 보훈 섬김 상대 로 하 위치 정보 추적 즉각 폐지 하 라 섬김 탄압 ...</td>\n",
       "      <td>인권/성평등</td>\n",
       "    </tr>\n",
       "    <tr>\n",
       "      <th>899</th>\n",
       "      <td>폭행 무능 구태 머무 협회 연맹 규정 파악 미숙 선발 취소 하 고 노선영 선수 빙산...</td>\n",
       "      <td>문화/예술/체육/언론</td>\n",
       "    </tr>\n",
       "    <tr>\n",
       "      <th>2831</th>\n",
       "      <td>인터넷 사이트 디시 인사이드 에서 아이즈 원 멤버 미야와키 사쿠라 에게 성희롱 하 ...</td>\n",
       "      <td>문화/예술/체육/언론</td>\n",
       "    </tr>\n",
       "    <tr>\n",
       "      <th>...</th>\n",
       "      <td>...</td>\n",
       "      <td>...</td>\n",
       "    </tr>\n",
       "    <tr>\n",
       "      <th>806</th>\n",
       "      <td>한게임 박장 뒤 봐 주 정부 반드시 국민 조 값 물 도록 하 겠 습니다 게임 박장 ...</td>\n",
       "      <td>문화/예술/체육/언론</td>\n",
       "    </tr>\n",
       "    <tr>\n",
       "      <th>2680</th>\n",
       "      <td>여성 가족 부 폐지 강력히 촉구 합니다 여성 가족 부 폐지 강력히 촉구 합니다 지금...</td>\n",
       "      <td>인권/성평등</td>\n",
       "    </tr>\n",
       "    <tr>\n",
       "      <th>393</th>\n",
       "      <td>대한민국 고 대한민국 중학교 나와서 인문 계 고등학교 로 학생 엄청 많 습니다 인문...</td>\n",
       "      <td>육아/교육</td>\n",
       "    </tr>\n",
       "    <tr>\n",
       "      <th>1987</th>\n",
       "      <td>조두순 출소 반대 조두순 미래 살인자</td>\n",
       "      <td>인권/성평등</td>\n",
       "    </tr>\n",
       "    <tr>\n",
       "      <th>1051</th>\n",
       "      <td>경기도 남양주시 살 아이 폭행 사건 청원 글</td>\n",
       "      <td>육아/교육</td>\n",
       "    </tr>\n",
       "  </tbody>\n",
       "</table>\n",
       "<p>4000 rows × 2 columns</p>\n",
       "</div>"
      ],
      "text/plain": [
       "                                                      0            1\n",
       "3031  연예계 성추행 조사 청원 합니다 최근 배우 성추행 행실 늘어남 따라 연예계 술렁이 ...       인권/성평등\n",
       "1677  광주 여대 성 적 대 자부 안녕 하 세요 정말 지 충격 인 이야기 들어 습니다 다른...        육아/교육\n",
       "214   국가 보훈 처 보훈 섬김 상대 로 하 위치 정보 추적 즉각 폐지 하 라 섬김 탄압 ...       인권/성평등\n",
       "899   폭행 무능 구태 머무 협회 연맹 규정 파악 미숙 선발 취소 하 고 노선영 선수 빙산...  문화/예술/체육/언론\n",
       "2831  인터넷 사이트 디시 인사이드 에서 아이즈 원 멤버 미야와키 사쿠라 에게 성희롱 하 ...  문화/예술/체육/언론\n",
       "...                                                 ...          ...\n",
       "806   한게임 박장 뒤 봐 주 정부 반드시 국민 조 값 물 도록 하 겠 습니다 게임 박장 ...  문화/예술/체육/언론\n",
       "2680  여성 가족 부 폐지 강력히 촉구 합니다 여성 가족 부 폐지 강력히 촉구 합니다 지금...       인권/성평등\n",
       "393   대한민국 고 대한민국 중학교 나와서 인문 계 고등학교 로 학생 엄청 많 습니다 인문...        육아/교육\n",
       "1987                               조두순 출소 반대 조두순 미래 살인자       인권/성평등\n",
       "1051                           경기도 남양주시 살 아이 폭행 사건 청원 글        육아/교육\n",
       "\n",
       "[4000 rows x 2 columns]"
      ]
     },
     "execution_count": 78,
     "metadata": {},
     "output_type": "execute_result"
    }
   ],
   "source": [
    "dev"
   ]
  },
  {
   "cell_type": "code",
   "execution_count": 79,
   "metadata": {},
   "outputs": [
    {
     "data": {
      "text/html": [
       "<div>\n",
       "<style scoped>\n",
       "    .dataframe tbody tr th:only-of-type {\n",
       "        vertical-align: middle;\n",
       "    }\n",
       "\n",
       "    .dataframe tbody tr th {\n",
       "        vertical-align: top;\n",
       "    }\n",
       "\n",
       "    .dataframe thead th {\n",
       "        text-align: right;\n",
       "    }\n",
       "</style>\n",
       "<table border=\"1\" class=\"dataframe\">\n",
       "  <thead>\n",
       "    <tr style=\"text-align: right;\">\n",
       "      <th></th>\n",
       "      <th>0</th>\n",
       "      <th>1</th>\n",
       "    </tr>\n",
       "  </thead>\n",
       "  <tbody>\n",
       "    <tr>\n",
       "      <th>6826</th>\n",
       "      <td>손해 보험 가입자 호구 아니 다 년 월 일손 해 보험 고객 님 연락처 변경 되 었 ...</td>\n",
       "      <td>인권/성평등</td>\n",
       "    </tr>\n",
       "    <tr>\n",
       "      <th>5481</th>\n",
       "      <td>소득 보장 일자리 보장 기회 노동 하 고자 하 면 일 할 수 있 어야 하 고 일 하...</td>\n",
       "      <td>인권/성평등</td>\n",
       "    </tr>\n",
       "    <tr>\n",
       "      <th>7288</th>\n",
       "      <td>인터넷 방송 규제 정말로 중요 사항 입니다 여러분 지금 인터넷 방송 모습 보 면 부...</td>\n",
       "      <td>문화/예술/체육/언론</td>\n",
       "    </tr>\n",
       "    <tr>\n",
       "      <th>5512</th>\n",
       "      <td>주입식 교육 폐지 도와 주 세요 제발 현재 주입식 교육 학생 사이 에서 극심 경쟁 ...</td>\n",
       "      <td>육아/교육</td>\n",
       "    </tr>\n",
       "    <tr>\n",
       "      <th>5624</th>\n",
       "      <td>장해랑 사장 퇴진 청원 합니다 장해랑 사장 퇴진 청원 합니다</td>\n",
       "      <td>육아/교육</td>\n",
       "    </tr>\n",
       "    <tr>\n",
       "      <th>...</th>\n",
       "      <td>...</td>\n",
       "      <td>...</td>\n",
       "    </tr>\n",
       "    <tr>\n",
       "      <th>4981</th>\n",
       "      <td>수능 일 주일 연기 반대 합니다 컨디션 다 조절 해 놓 고 모든 걸 내일 위해 쏟아...</td>\n",
       "      <td>육아/교육</td>\n",
       "    </tr>\n",
       "    <tr>\n",
       "      <th>5682</th>\n",
       "      <td>학교 교실 의무 화 해 주 세요 학교 내 에서 피해자 에서 가해자 로 된 엄마 입니...</td>\n",
       "      <td>육아/교육</td>\n",
       "    </tr>\n",
       "    <tr>\n",
       "      <th>4132</th>\n",
       "      <td>군포 고객 케어 팀 조사 해 주 시 기 바랍니다 시스템 올레 특정 고객 번호 군포 ...</td>\n",
       "      <td>인권/성평등</td>\n",
       "    </tr>\n",
       "    <tr>\n",
       "      <th>4959</th>\n",
       "      <td>의지 하 던 친구 에게 몰카 로 협박 당해 자살 세 소녀 사건 투신 전 조카 핸드폰...</td>\n",
       "      <td>육아/교육</td>\n",
       "    </tr>\n",
       "    <tr>\n",
       "      <th>4613</th>\n",
       "      <td>가혹 하 고 불 합리 통신 연좌제 개선 하 라 가혹 하 고 불 합리 통신 연좌제 이...</td>\n",
       "      <td>문화/예술/체육/언론</td>\n",
       "    </tr>\n",
       "  </tbody>\n",
       "</table>\n",
       "<p>4000 rows × 2 columns</p>\n",
       "</div>"
      ],
      "text/plain": [
       "                                                      0            1\n",
       "6826  손해 보험 가입자 호구 아니 다 년 월 일손 해 보험 고객 님 연락처 변경 되 었 ...       인권/성평등\n",
       "5481  소득 보장 일자리 보장 기회 노동 하 고자 하 면 일 할 수 있 어야 하 고 일 하...       인권/성평등\n",
       "7288  인터넷 방송 규제 정말로 중요 사항 입니다 여러분 지금 인터넷 방송 모습 보 면 부...  문화/예술/체육/언론\n",
       "5512  주입식 교육 폐지 도와 주 세요 제발 현재 주입식 교육 학생 사이 에서 극심 경쟁 ...        육아/교육\n",
       "5624                  장해랑 사장 퇴진 청원 합니다 장해랑 사장 퇴진 청원 합니다        육아/교육\n",
       "...                                                 ...          ...\n",
       "4981  수능 일 주일 연기 반대 합니다 컨디션 다 조절 해 놓 고 모든 걸 내일 위해 쏟아...        육아/교육\n",
       "5682  학교 교실 의무 화 해 주 세요 학교 내 에서 피해자 에서 가해자 로 된 엄마 입니...        육아/교육\n",
       "4132  군포 고객 케어 팀 조사 해 주 시 기 바랍니다 시스템 올레 특정 고객 번호 군포 ...       인권/성평등\n",
       "4959  의지 하 던 친구 에게 몰카 로 협박 당해 자살 세 소녀 사건 투신 전 조카 핸드폰...        육아/교육\n",
       "4613  가혹 하 고 불 합리 통신 연좌제 개선 하 라 가혹 하 고 불 합리 통신 연좌제 이...  문화/예술/체육/언론\n",
       "\n",
       "[4000 rows x 2 columns]"
      ]
     },
     "execution_count": 79,
     "metadata": {},
     "output_type": "execute_result"
    }
   ],
   "source": [
    "test_new"
   ]
  },
  {
   "cell_type": "code",
   "execution_count": 80,
   "metadata": {},
   "outputs": [],
   "source": [
    "dev.to_csv('bh_big.dev', encoding='utf-8', header=False, index=False)"
   ]
  },
  {
   "cell_type": "code",
   "execution_count": 83,
   "metadata": {},
   "outputs": [],
   "source": [
    "test_new.to_csv('bh_big.test', encoding='utf-8', header=False, index=False)"
   ]
  },
  {
   "cell_type": "code",
   "execution_count": 84,
   "metadata": {},
   "outputs": [
    {
     "data": {
      "text/html": [
       "<div>\n",
       "<style scoped>\n",
       "    .dataframe tbody tr th:only-of-type {\n",
       "        vertical-align: middle;\n",
       "    }\n",
       "\n",
       "    .dataframe tbody tr th {\n",
       "        vertical-align: top;\n",
       "    }\n",
       "\n",
       "    .dataframe thead th {\n",
       "        text-align: right;\n",
       "    }\n",
       "</style>\n",
       "<table border=\"1\" class=\"dataframe\">\n",
       "  <thead>\n",
       "    <tr style=\"text-align: right;\">\n",
       "      <th></th>\n",
       "      <th>0</th>\n",
       "    </tr>\n",
       "    <tr>\n",
       "      <th>1</th>\n",
       "      <th></th>\n",
       "    </tr>\n",
       "  </thead>\n",
       "  <tbody>\n",
       "    <tr>\n",
       "      <th>문화/예술/체육/언론</th>\n",
       "      <td>1335</td>\n",
       "    </tr>\n",
       "    <tr>\n",
       "      <th>육아/교육</th>\n",
       "      <td>1347</td>\n",
       "    </tr>\n",
       "    <tr>\n",
       "      <th>인권/성평등</th>\n",
       "      <td>1318</td>\n",
       "    </tr>\n",
       "  </tbody>\n",
       "</table>\n",
       "</div>"
      ],
      "text/plain": [
       "                0\n",
       "1                \n",
       "문화/예술/체육/언론  1335\n",
       "육아/교육        1347\n",
       "인권/성평등       1318"
      ]
     },
     "execution_count": 84,
     "metadata": {},
     "output_type": "execute_result"
    }
   ],
   "source": [
    "test_new.groupby(1).count()"
   ]
  },
  {
   "cell_type": "code",
   "execution_count": 92,
   "metadata": {},
   "outputs": [
    {
     "data": {
      "text/plain": [
       "'인터넷 방송 규제 정말로 중요 사항 입니다 여러분 지금 인터넷 방송 모습 보 면 부끄럽 기 짝 없 습니다 온갖 욕설 성 적 인 표현 그리고 비하 과연 어린 아이 이런 걸 보 면 도데체 어떻게 자랄지 심히 걱정 됩니다 인터넷 방송 대한 강력 규제 필요 하 다고 생각 합니다 아무리 표현 자유 라고 말 하 지만 이거 아니 라고 생각 합니다 지금 아주 중요 기로 서 있 정부 에서 꼭 문제 대해 참여 필요 하 다고 생각 합니다'"
      ]
     },
     "execution_count": 92,
     "metadata": {},
     "output_type": "execute_result"
    }
   ],
   "source": [
    "test_new[0].iloc[2]"
   ]
  },
  {
   "cell_type": "code",
   "execution_count": 86,
   "metadata": {},
   "outputs": [
    {
     "name": "stdout",
     "output_type": "stream",
     "text": [
      "살인마 전두환 대체 왜 살려 두 겁니까 때 스러져간 수많 억울 죽음 그 원혼 풀 어 주 기 위해서 라도 늦 었 지만서도 살인마 전두환 대한 응징 필요 합니다 이미 박탈 되 었 지만 전직 대통령 었 기 때문 어쩌 구 보수 세력 쪽 에서 정치 보복 볼 우려 있 기 어쩌 구 이런 핑계 대 지 말 고 역사 바로 세워 주 시 기 바랍니다 더 이상 무슨 증거 필요 하 고 무슨 고려 필요 합니까 살인마 전두환 당장 법 심판대 위 세우 시 기 바랍니다 인권/성평등\n",
      "동의 합니다 동의 합니다 육아/교육\n",
      "소년법 폐지 악질 범죄 대해 소년법 예외 되 었 으면 좋 겠 습니다 육아/교육\n"
     ]
    }
   ],
   "source": [
    "for i in range(3):\n",
    "    print(dev[0][i], dev[1][i])"
   ]
  },
  {
   "cell_type": "code",
   "execution_count": 94,
   "metadata": {},
   "outputs": [
    {
     "name": "stdout",
     "output_type": "stream",
     "text": [
      "손해 보험 가입자 호구 아니 다 년 월 일손 해 보험 고객 님 연락처 변경 되 었 읍니다 알림 문자 받 고 전화 월 일손 해 보험 고객 님 소중 의견 접수 되 었 으며 담당자 지정 후 안 내 드리 겠 습니다 년 월 일 동부 콜 센터 담당자 지정 언제 하 는지 다시 전화 년 월 일 성 남 총괄 팀장 라고 자신 소개 하 시 분 전화 왔 다 개인 정보 본인 동의 없이 변경 되 었 는데 왜 했 는지 질문 하 니 조사 해 보 겠 다고 하 고 잠수 타 셨 다 년 월 일개 인 정보 보호 책임자 불만 접수 메일 로 보냄 월 일 위 인중 인 전화 왔 다 본 인동 없이 연락처 변경 개인 정보 보호법 위반 아니 다 라는 답변 또 다른 분 전화 왔 기 개인 정보 연락처 훼손 되 었 다 복구 된 이유 질문 하 니 훼손 아니 라 자녀 한테 전화 하 려다 다른 곳 잘못 걸린 정도 라고 말 한다 이분 전화기 무엇 쓰 는지 궁금 하 다 전화 번호 로 인증 받 고 어떤 용도 로 사용 되 는지 모르 시 분 거나 왜 변경 했 는지 이유 듣 고 싶 다고 하 니 금감원 이나 국가 정보원 소비자 불만 등등 접수 해도 주 걸리 니 그 정도 시간 걸린단 다 동부 자체 규정 없이 금감원 이나 국정원 그런 곳 규정 갔 다 쓰 냐고 다시 질문 하 니까 그때 서 야 주말 일 까지 답 준단다 월 일 준다던 답 없 고 어떤 불만 해결 원하 느냐고 다시 묻 는다 이분 또 뒷 북 치신 다 자꾸 본질 흐리 면서 시간 끌 면서 무엇 원하 느냐고 한다 동부 에서 가입자 동의 없이 변경 가능 하 다 말 하 지만 왜 변경 되 었 는지 가입자 그 이유 알 권리 있 것 아니 냐고 그 이유 알려 달 라는 데 다른 방향 끌 고 간다 사소 일 트집 잡 아 돈 라도 뜯어내 블랙 컨 슈 머 취급 당했 다 동부 도대체 무엇 하 고 있 는지 요즘 유행어 처럼 아갈머리 찢 어 버리 고 싶 걸 참으 며 동부 자체 사건 일지 라든지 사건 사고 경위서 라는 양식 없 으면 다른 곳 것 가져다가 빈 칸 다 채우 면 하 원칙 의한 이유 서 든 경위서 든 만들 어 진다 그것 연락처 변경 되 었 다고 알림 문자 준 그 라인 보내 야 증거 로 쓸 수 있 으니 보내 달 라 했 더니 문서 로 만들 어 동부 직인 찍 어 우편 보내 준다고 하 기 월안 끝내 고 명절 보낼 수 있 게 하 자고 했으나 월일 까지 우편물 오 지 않 았 다 동부 개인 정보 보호법 위반 아니 다 하 고 가입자 정보 함부로 변경 하 고 알림 문자 보낸 것 책임 다 했 다고 하 것 어떤 방법 통해서 든 동부 가입자 물론 보험 가입 하 려는 분 에게 참 고 할 수 있 도록 할 것 인데 언론 알리 것 법 위반 입 니까 질문 하 니 그것 엔 답 안 한다 가입자 똥 볼 차 듯 이리 저리 차 다 제자리 갔 다 놨으니 위반 아니 책임 다 했 다고 말 하 동부 금감원 내지 국정원 규정 도용 동부 각종 양식 없 건지 모르 건지 하 원칙 빈 칸 쓰 라고 알려져야 하 동부 년 시작 아주 더럽 게 출발 했 다 손해 보험 이용 하 시 분 자신 개인 정보 제대로 관리 되 고 보호 되 고 있 는지 다시 번 확인 하 시 길 바랍니다 보험금 소급 지급 하 려고 머리 쓰 고 계산 하 듯이 개인 정보 보호 신경 쓰 동부 길 바랍니다 인권/성평등\n",
      "소득 보장 일자리 보장 기회 노동 하 고자 하 면 일 할 수 있 어야 하 고 일 하 면 그만큼 보수 받 수 있 어야 합니다 좋 일자리 수 한정 된 것 임금 줄여서 라도 일 할 수 있 자리 마련 우선 지 않 까 합니다 공무원 공기업 정규직 비정규직 일 해야 하 곳 일 할 수 있 사람 뽑 아 줘야 하 지 않 나요 지하철 인 운행 소방관 보충 사회 복지 사 너무나 임금 차이 크기 상대 적 박탈감 같 일 하 고 너무나 차이 나 임금 비정규직 임금 현실 적 정규직 비춰서 받 수 있 어야 합니다 성과급 복지 비용 차이 만 있 어야지 아예 주지 않 으니 비정규직 현실 존재 하 기 법 적 보장 받 수 있 게 해 주 세요 현장 에서 실질 적 일 하 하청 업체 직원 비정규직 대우 에서 그 노동 아닌 노예 인가요 인권/성평등\n",
      "인터넷 방송 규제 정말로 중요 사항 입니다 여러분 지금 인터넷 방송 모습 보 면 부끄럽 기 짝 없 습니다 온갖 욕설 성 적 인 표현 그리고 비하 과연 어린 아이 이런 걸 보 면 도데체 어떻게 자랄지 심히 걱정 됩니다 인터넷 방송 대한 강력 규제 필요 하 다고 생각 합니다 아무리 표현 자유 라고 말 하 지만 이거 아니 라고 생각 합니다 지금 아주 중요 기로 서 있 정부 에서 꼭 문제 대해 참여 필요 하 다고 생각 합니다 문화/예술/체육/언론\n"
     ]
    }
   ],
   "source": [
    "for i in range(3):\n",
    "    print(test_new[0].iloc[i], test_new[1].iloc[i])"
   ]
  },
  {
   "cell_type": "code",
   "execution_count": 95,
   "metadata": {},
   "outputs": [],
   "source": [
    "from tensorflow.keras.preprocessing.text import Tokenizer"
   ]
  },
  {
   "cell_type": "code",
   "execution_count": 116,
   "metadata": {},
   "outputs": [],
   "source": [
    "X_train = pd.read_csv('./data/bh_big.train', encoding='utf-8', header=None, index_col=None)"
   ]
  },
  {
   "cell_type": "code",
   "execution_count": 117,
   "metadata": {},
   "outputs": [],
   "source": [
    "X_train.columns = [\"data\",\"category\"]"
   ]
  },
  {
   "cell_type": "code",
   "execution_count": 118,
   "metadata": {},
   "outputs": [
    {
     "data": {
      "text/html": [
       "<div>\n",
       "<style scoped>\n",
       "    .dataframe tbody tr th:only-of-type {\n",
       "        vertical-align: middle;\n",
       "    }\n",
       "\n",
       "    .dataframe tbody tr th {\n",
       "        vertical-align: top;\n",
       "    }\n",
       "\n",
       "    .dataframe thead th {\n",
       "        text-align: right;\n",
       "    }\n",
       "</style>\n",
       "<table border=\"1\" class=\"dataframe\">\n",
       "  <thead>\n",
       "    <tr style=\"text-align: right;\">\n",
       "      <th></th>\n",
       "      <th>data</th>\n",
       "      <th>category</th>\n",
       "    </tr>\n",
       "  </thead>\n",
       "  <tbody>\n",
       "    <tr>\n",
       "      <th>0</th>\n",
       "      <td>평창 올림픽 개막식 및 폐막식 아이돌 섭외 반대 합니다 아시안 게임 에서 비 스포츠...</td>\n",
       "      <td>문화/예술/체육/언론</td>\n",
       "    </tr>\n",
       "    <tr>\n",
       "      <th>1</th>\n",
       "      <td>여성 가족 부도 세 종시 로 이전 시키 세요 서울 있 이유 없 어요</td>\n",
       "      <td>인권/성평등</td>\n",
       "    </tr>\n",
       "    <tr>\n",
       "      <th>2</th>\n",
       "      <td>태권 승품 및 승단 시험 심사 비 과다 징 수건 대한민국 국기 인 태권 상당수 부모...</td>\n",
       "      <td>육아/교육</td>\n",
       "    </tr>\n",
       "    <tr>\n",
       "      <th>3</th>\n",
       "      <td>조희진 진상 조사 단장 해 임해 주 세요 불 공정 함 철저 수사 될 리 없 습니다 ...</td>\n",
       "      <td>인권/성평등</td>\n",
       "    </tr>\n",
       "    <tr>\n",
       "      <th>4</th>\n",
       "      <td>최저 임금 차등 화 안녕 하 세요 저 업종 근무 중 인 대 여자 입니다 사무직 오래...</td>\n",
       "      <td>인권/성평등</td>\n",
       "    </tr>\n",
       "    <tr>\n",
       "      <th>...</th>\n",
       "      <td>...</td>\n",
       "      <td>...</td>\n",
       "    </tr>\n",
       "    <tr>\n",
       "      <th>31987</th>\n",
       "      <td>특수 학교 학급 의무 화 꼭 필요 합니다 저 살 정신 지체 아이 키우 고 있 평범 ...</td>\n",
       "      <td>인권/성평등</td>\n",
       "    </tr>\n",
       "    <tr>\n",
       "      <th>31988</th>\n",
       "      <td>대한민국 축구 대하 여 김신욱 선수 국가 대표 마크 삭제 시켜 주 십시오</td>\n",
       "      <td>문화/예술/체육/언론</td>\n",
       "    </tr>\n",
       "    <tr>\n",
       "      <th>31989</th>\n",
       "      <td>언론사 뿌리내린 페미 메 갈 기자 축출 해야 한다 예전 에서 일 베 출신 기자 해고...</td>\n",
       "      <td>인권/성평등</td>\n",
       "    </tr>\n",
       "    <tr>\n",
       "      <th>31990</th>\n",
       "      <td>축구 협회 청산 축협 적폐 청산 해 주 십시오</td>\n",
       "      <td>문화/예술/체육/언론</td>\n",
       "    </tr>\n",
       "    <tr>\n",
       "      <th>31991</th>\n",
       "      <td>특수 유아 지원 더 필요 합니다 안녕 하 세요 아들 딸 둔 아빠 입니다 내년 살 되...</td>\n",
       "      <td>육아/교육</td>\n",
       "    </tr>\n",
       "  </tbody>\n",
       "</table>\n",
       "<p>31992 rows × 2 columns</p>\n",
       "</div>"
      ],
      "text/plain": [
       "                                                    data     category\n",
       "0      평창 올림픽 개막식 및 폐막식 아이돌 섭외 반대 합니다 아시안 게임 에서 비 스포츠...  문화/예술/체육/언론\n",
       "1                  여성 가족 부도 세 종시 로 이전 시키 세요 서울 있 이유 없 어요       인권/성평등\n",
       "2      태권 승품 및 승단 시험 심사 비 과다 징 수건 대한민국 국기 인 태권 상당수 부모...        육아/교육\n",
       "3      조희진 진상 조사 단장 해 임해 주 세요 불 공정 함 철저 수사 될 리 없 습니다 ...       인권/성평등\n",
       "4      최저 임금 차등 화 안녕 하 세요 저 업종 근무 중 인 대 여자 입니다 사무직 오래...       인권/성평등\n",
       "...                                                  ...          ...\n",
       "31987  특수 학교 학급 의무 화 꼭 필요 합니다 저 살 정신 지체 아이 키우 고 있 평범 ...       인권/성평등\n",
       "31988           대한민국 축구 대하 여 김신욱 선수 국가 대표 마크 삭제 시켜 주 십시오  문화/예술/체육/언론\n",
       "31989  언론사 뿌리내린 페미 메 갈 기자 축출 해야 한다 예전 에서 일 베 출신 기자 해고...       인권/성평등\n",
       "31990                          축구 협회 청산 축협 적폐 청산 해 주 십시오  문화/예술/체육/언론\n",
       "31991  특수 유아 지원 더 필요 합니다 안녕 하 세요 아들 딸 둔 아빠 입니다 내년 살 되...        육아/교육\n",
       "\n",
       "[31992 rows x 2 columns]"
      ]
     },
     "execution_count": 118,
     "metadata": {},
     "output_type": "execute_result"
    }
   ],
   "source": [
    "X_train"
   ]
  },
  {
   "cell_type": "code",
   "execution_count": 107,
   "metadata": {},
   "outputs": [
    {
     "data": {
      "text/plain": [
       "0        [평창, 올림픽, 개막식, 및, 폐막식, 아이돌, 섭외, 반대, 합니다, 아시안, ...\n",
       "1                    여성 가족 부도 세 종시 로 이전 시키 세요 서울 있 이유 없 어요\n",
       "2        태권 승품 및 승단 시험 심사 비 과다 징 수건 대한민국 국기 인 태권 상당수 부모...\n",
       "3        조희진 진상 조사 단장 해 임해 주 세요 불 공정 함 철저 수사 될 리 없 습니다 ...\n",
       "4        최저 임금 차등 화 안녕 하 세요 저 업종 근무 중 인 대 여자 입니다 사무직 오래...\n",
       "                               ...                        \n",
       "31987    특수 학교 학급 의무 화 꼭 필요 합니다 저 살 정신 지체 아이 키우 고 있 평범 ...\n",
       "31988             대한민국 축구 대하 여 김신욱 선수 국가 대표 마크 삭제 시켜 주 십시오\n",
       "31989    언론사 뿌리내린 페미 메 갈 기자 축출 해야 한다 예전 에서 일 베 출신 기자 해고...\n",
       "31990                            축구 협회 청산 축협 적폐 청산 해 주 십시오\n",
       "31991    특수 유아 지원 더 필요 합니다 안녕 하 세요 아들 딸 둔 아빠 입니다 내년 살 되...\n",
       "Name: 0, Length: 31992, dtype: object"
      ]
     },
     "execution_count": 107,
     "metadata": {},
     "output_type": "execute_result"
    }
   ],
   "source": [
    "X_train"
   ]
  },
  {
   "cell_type": "code",
   "execution_count": 104,
   "metadata": {},
   "outputs": [
    {
     "name": "stdout",
     "output_type": "stream",
     "text": [
      "단어 집합(vocabulary)의 크기 : 35\n",
      "등장 빈도가 5번 이하인 희귀 단어의 수: 35\n",
      "단어 집합에서 희귀 단어의 비율: 100.0 %\n",
      "전체 등장 빈도에서 희귀 단어 등장 빈도 비율: 100.0 %\n"
     ]
    }
   ],
   "source": [
    "tokenizer = Tokenizer()\n",
    "tokenizer.fit_on_texts(X_train[0].split())\n",
    "\n",
    "# 50k dataset\n",
    "threshold = 6\n",
    "\n",
    "total_cnt = len(tokenizer.word_index)  # 단어의 수\n",
    "rare_cnt = 0  # 등장 빈도수가 threshold보다 작은 단어의 개수를 카운트\n",
    "total_freq = 0  # 훈련 데이터의 전체 단어 빈도수 총 합\n",
    "rare_freq = 0  # 등장 빈도수가 threshold보다 작은 단어의 등장 빈도수의 총 합\n",
    "  \n",
    "for key, value in tokenizer.word_counts.items():\n",
    "    total_freq = total_freq + value\n",
    "    if(value < threshold):\n",
    "        rare_cnt = rare_cnt + 1\n",
    "        rare_freq = rare_freq + value\n",
    "\n",
    "print('단어 집합(vocabulary)의 크기 :',total_cnt)\n",
    "print('등장 빈도가 %s번 이하인 희귀 단어의 수: %s'%(threshold - 1, rare_cnt))\n",
    "print(\"단어 집합에서 희귀 단어의 비율:\",  round((rare_cnt / total_cnt)*100,2),\"%\")\n",
    "print(\"전체 등장 빈도에서 희귀 단어 등장 빈도 비율:\",  round((rare_freq / total_freq)*100,2),\"%\")\n"
   ]
  },
  {
   "cell_type": "code",
   "execution_count": 105,
   "metadata": {},
   "outputs": [],
   "source": [
    "tokenizer.fit_on_texts?"
   ]
  },
  {
   "cell_type": "code",
   "execution_count": null,
   "metadata": {},
   "outputs": [],
   "source": []
  }
 ],
 "metadata": {
  "kernelspec": {
   "display_name": "Python 3",
   "language": "python",
   "name": "python3"
  },
  "language_info": {
   "codemirror_mode": {
    "name": "ipython",
    "version": 3
   },
   "file_extension": ".py",
   "mimetype": "text/x-python",
   "name": "python",
   "nbconvert_exporter": "python",
   "pygments_lexer": "ipython3",
   "version": "3.6.10"
  }
 },
 "nbformat": 4,
 "nbformat_minor": 4
}
